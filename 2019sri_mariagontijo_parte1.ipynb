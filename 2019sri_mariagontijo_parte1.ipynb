{
  "nbformat": 4,
  "nbformat_minor": 0,
  "metadata": {
    "kernelspec": {
      "display_name": "Python 3",
      "language": "python",
      "name": "python3"
    },
    "language_info": {
      "codemirror_mode": {
        "name": "ipython",
        "version": 3
      },
      "file_extension": ".py",
      "mimetype": "text/x-python",
      "name": "python",
      "nbconvert_exporter": "python",
      "pygments_lexer": "ipython3",
      "version": "3.7.3"
    },
    "colab": {
      "name": "2019sri_mariagontijo.ipynb",
      "provenance": [],
      "include_colab_link": true
    }
  },
  "cells": [
    {
      "cell_type": "markdown",
      "metadata": {
        "id": "view-in-github",
        "colab_type": "text"
      },
      "source": [
        "<a href=\"https://colab.research.google.com/github/mariagontijo/emap-rir-/blob/master/2019sri_mariagontijo_parte1.ipynb\" target=\"_parent\"><img src=\"https://colab.research.google.com/assets/colab-badge.svg\" alt=\"Open In Colab\"/></a>"
      ]
    },
    {
      "cell_type": "markdown",
      "metadata": {
        "id": "JdFCOaLxKn01",
        "colab_type": "text"
      },
      "source": [
        "# EMAP - Projeto Final Sistema de Recuperação de Informação -\n",
        "#### Maria Gabriela G Gontijo"
      ]
    },
    {
      "cell_type": "markdown",
      "metadata": {
        "id": "dH0o9asaKn05",
        "colab_type": "text"
      },
      "source": [
        "Para o Projeto Final foram selecionados dois tipos de documentos: \n",
        "\n",
        "\n",
        "i) relatórios feitos por dirigentes do Banco Central no período de 2001 a 2019;\n",
        "\n",
        "ii)contratos entre concessiónaria e poder concedente do setor de energia no Brasil, os quais foram assinados no período de 1997 a 2019;  "
      ]
    },
    {
      "cell_type": "markdown",
      "metadata": {
        "id": "oHtt7tvGKn08",
        "colab_type": "text"
      },
      "source": [
        "#### Imports... "
      ]
    },
    {
      "cell_type": "code",
      "metadata": {
        "id": "-4SOGCo9Kn0_",
        "colab_type": "code",
        "colab": {}
      },
      "source": [
        "import pandas as pd\n",
        "import numpy as np\n",
        "import matplotlib.pyplot as plt\n",
        "from collections import Counter\n",
        "from IPython.display import clear_output\n",
        "from pdfminer.converter import TextConverter\n",
        "from pdfminer.layout import LAParams\n",
        "from pdfminer.pdfinterp import PDFResourceManager\n",
        "from pdfminer.pdfinterp import PDFPageInterpreter\n",
        "from pdfminer.pdfpage import PDFPage\n",
        "from textblob import TextBlob\n",
        "import io\n",
        "import math\n",
        "import string\n",
        "import nltk \n",
        "from wordcloud import WordCloud\n",
        "import os\n",
        "import PyPDF2\n",
        "from math import log\n",
        "from sklearn.feature_extraction.text import TfidfVectorizer\n",
        "import spacy\n",
        "import matplotlib.pyplot as plt\n",
        "import pt_core_news_sm\n"
      ],
      "execution_count": 0,
      "outputs": []
    },
    {
      "cell_type": "code",
      "metadata": {
        "id": "qQp0d3EjKn1F",
        "colab_type": "code",
        "colab": {}
      },
      "source": [
        "import numpy as np\n",
        "import pandas as pd\n",
        "import seaborn as sns\n",
        "import matplotlib.pyplot as plt\n",
        "import os\n",
        "import re\n",
        "import whoosh\n",
        "import nltk\n",
        "import string\n",
        "import shutil\n",
        "import gensim\n",
        "import logging\n",
        "#------------------------------------------------------------------------------------\n",
        "from IPython.display import display, Markdown, Latex\n",
        "from collections import defaultdict,Counter,OrderedDict\n",
        "from math import log\n",
        "from sklearn.feature_extraction.text import TfidfVectorizer\n",
        "from numpy.linalg import norm\n",
        "from string import punctuation\n",
        "#____________________________________________________________________________________\n",
        "from gensim import corpora, models, similarities\n",
        "from gensim.utils import simple_preprocess\n",
        "from gensim.models import CoherenceModel,wrappers,FastText\n",
        "#____________________________________________________________________________________\n",
        "from nltk.corpus import machado, mac_morpho,stopwords\n",
        "from nltk.tokenize import WordPunctTokenizer\n",
        "from nltk.stem.snowball import SnowballStemmer\n",
        "#____________________________________________________________________________________\n",
        "import pyLDAvis\n",
        "import pyLDAvis.gensim  # don't skip this\n",
        "import matplotlib.pyplot as plt\n",
        "%matplotlib inline\n",
        "#____________________________________________________________________________________\n",
        "from whoosh import sorting\n",
        "from whoosh.index import create_in, open_dir\n",
        "from whoosh.fields import *\n",
        "from whoosh import qparser\n",
        "from whoosh.qparser import QueryParser"
      ],
      "execution_count": 0,
      "outputs": []
    },
    {
      "cell_type": "markdown",
      "metadata": {
        "id": "MqP-hi7cKn1L",
        "colab_type": "text"
      },
      "source": [
        "#### Função para leitura dos documentos tipo pdf "
      ]
    },
    {
      "cell_type": "code",
      "metadata": {
        "id": "ImJqKfwLKn1O",
        "colab_type": "code",
        "colab": {}
      },
      "source": [
        "#Leitura dos documentos com a biblioteca pdfminer\n",
        "\n",
        "def read_pdf(path):\n",
        "    rsrcmgr = PDFResourceManager()\n",
        "    retstr = io.StringIO()\n",
        "    codec = 'utf-8'\n",
        "    laparams = LAParams()\n",
        "    device = TextConverter(rsrcmgr, retstr, codec=codec, laparams=laparams)\n",
        "    fp = open(path, 'rb')\n",
        "    interpreter = PDFPageInterpreter(rsrcmgr, device)\n",
        "    password = \"\"\n",
        "    maxpages = 0\n",
        "    caching = True\n",
        "    pagenos=set()\n",
        "    for page in PDFPage.get_pages(fp, pagenos, maxpages=maxpages, password=password, caching=caching, check_extractable=True): \n",
        "        interpreter.process_page(page)\n",
        "    text = retstr.getvalue()\n",
        "    text = \" \".join(text.replace(u\"\\xa0\", \" \").strip().split())  \n",
        "    fp.close()\n",
        "    device.close()\n",
        "    retstr.close()\n",
        "    return text"
      ],
      "execution_count": 0,
      "outputs": []
    },
    {
      "cell_type": "markdown",
      "metadata": {
        "id": "HO1CvwtgKn1R",
        "colab_type": "text"
      },
      "source": [
        "Construindo a lista de documentos "
      ]
    },
    {
      "cell_type": "code",
      "metadata": {
        "id": "7cJwNhGeKn1T",
        "colab_type": "code",
        "colab": {},
        "outputId": "1b47ee4f-21e8-4325-8d66-65af40fdc6ca"
      },
      "source": [
        "#Corpus em português:\n",
        "nltk.download('stopwords')\n",
        "swu = stopwords.words('portuguese')+ list(string.punctuation)\n",
        "stopwords.words('portuguese')\n",
        "stemmer = SnowballStemmer('portuguese')"
      ],
      "execution_count": 0,
      "outputs": [
        {
          "output_type": "stream",
          "text": [
            "[nltk_data] Downloading package stopwords to\n",
            "[nltk_data]     C:\\Users\\maria.gontijo\\AppData\\Roaming\\nltk_data...\n",
            "[nltk_data]   Package stopwords is already up-to-date!\n"
          ],
          "name": "stderr"
        }
      ]
    },
    {
      "cell_type": "code",
      "metadata": {
        "id": "GKtgBXl_Kn1m",
        "colab_type": "code",
        "colab": {},
        "outputId": "ade316ee-5212-467a-ba55-f62f3d672cae"
      },
      "source": [
        "corpus = pd.read_csv(\"documentos2.csv\")\n",
        "corpus.head()"
      ],
      "execution_count": 0,
      "outputs": [
        {
          "output_type": "execute_result",
          "data": {
            "text/html": [
              "<div>\n",
              "<style scoped>\n",
              "    .dataframe tbody tr th:only-of-type {\n",
              "        vertical-align: middle;\n",
              "    }\n",
              "\n",
              "    .dataframe tbody tr th {\n",
              "        vertical-align: top;\n",
              "    }\n",
              "\n",
              "    .dataframe thead th {\n",
              "        text-align: right;\n",
              "    }\n",
              "</style>\n",
              "<table border=\"1\" class=\"dataframe\">\n",
              "  <thead>\n",
              "    <tr style=\"text-align: right;\">\n",
              "      <th></th>\n",
              "      <th>Unnamed: 0</th>\n",
              "      <th>id</th>\n",
              "      <th>content</th>\n",
              "    </tr>\n",
              "  </thead>\n",
              "  <tbody>\n",
              "    <tr>\n",
              "      <th>0</th>\n",
              "      <td>0</td>\n",
              "      <td>001-2002.pdf</td>\n",
              "      <td>CONTRATO DE CONCESSÃO DE TRANSMISSÃO Nº 001/20...</td>\n",
              "    </tr>\n",
              "    <tr>\n",
              "      <th>1</th>\n",
              "      <td>1</td>\n",
              "      <td>001-2005.pdf</td>\n",
              "      <td>LOTE A PROCESSO No 48500.001318/04-73 CONTRATO...</td>\n",
              "    </tr>\n",
              "    <tr>\n",
              "      <th>2</th>\n",
              "      <td>2</td>\n",
              "      <td>001-2011.pdf</td>\n",
              "      <td>CONTRATO DE CONCESSÃO N° 001/2011-ANEEL TRANSM...</td>\n",
              "    </tr>\n",
              "    <tr>\n",
              "      <th>3</th>\n",
              "      <td>3</td>\n",
              "      <td>001-2014.pdf</td>\n",
              "      <td>CONTRATO DE C0NcEssA0 N 2 01/2014-ANEEL MATA D...</td>\n",
              "    </tr>\n",
              "    <tr>\n",
              "      <th>4</th>\n",
              "      <td>4</td>\n",
              "      <td>001-2017.pdf</td>\n",
              "      <td>€*ANEELAcíucia Naciohal de Enercia EitmcnPROCE...</td>\n",
              "    </tr>\n",
              "  </tbody>\n",
              "</table>\n",
              "</div>"
            ],
            "text/plain": [
              "   Unnamed: 0            id                                            content\n",
              "0           0  001-2002.pdf  CONTRATO DE CONCESSÃO DE TRANSMISSÃO Nº 001/20...\n",
              "1           1  001-2005.pdf  LOTE A PROCESSO No 48500.001318/04-73 CONTRATO...\n",
              "2           2  001-2011.pdf  CONTRATO DE CONCESSÃO N° 001/2011-ANEEL TRANSM...\n",
              "3           3  001-2014.pdf  CONTRATO DE C0NcEssA0 N 2 01/2014-ANEEL MATA D...\n",
              "4           4  001-2017.pdf  €*ANEELAcíucia Naciohal de Enercia EitmcnPROCE..."
            ]
          },
          "metadata": {
            "tags": []
          },
          "execution_count": 5
        }
      ]
    },
    {
      "cell_type": "code",
      "metadata": {
        "id": "OFyasQjBKn1r",
        "colab_type": "code",
        "colab": {},
        "outputId": "67bf43fa-d3da-4903-fca0-4ec73a6de1d5"
      },
      "source": [
        "# Load the regular expression library\n",
        "import re\n",
        "# Remove punctuation\n",
        "corpus['corpus_processed'] = corpus['content'].map(lambda x: re.sub('[,\\.!?]', '', x))\n",
        "# Convert the titles to lowercase\n",
        "corpus['corpus_processed'] = corpus['corpus_processed'].map(lambda x: x.lower())\n",
        "# Print out the first rows of papers\n",
        "corpus['corpus_processed'].head()"
      ],
      "execution_count": 0,
      "outputs": [
        {
          "output_type": "stream",
          "text": [
            "<>:4: DeprecationWarning: invalid escape sequence \\.\n",
            "<>:4: DeprecationWarning: invalid escape sequence \\.\n",
            "<>:4: DeprecationWarning: invalid escape sequence \\.\n",
            "<ipython-input-6-ad2897a4ea6f>:4: DeprecationWarning: invalid escape sequence \\.\n",
            "  corpus['corpus_processed'] = corpus['content'].map(lambda x: re.sub('[,\\.!?]', '', x))\n"
          ],
          "name": "stderr"
        },
        {
          "output_type": "execute_result",
          "data": {
            "text/plain": [
              "0    contrato de concessão de transmissão nº 001/20...\n",
              "1    lote a processo no 48500001318/04-73 contrato ...\n",
              "2    contrato de concessão n° 001/2011-aneel transm...\n",
              "3    contrato de c0ncessa0 n 2 01/2014-aneel mata d...\n",
              "4    €*aneelacíucia naciohal de enercia eitmcnproce...\n",
              "Name: corpus_processed, dtype: object"
            ]
          },
          "metadata": {
            "tags": []
          },
          "execution_count": 6
        }
      ]
    },
    {
      "cell_type": "code",
      "metadata": {
        "scrolled": true,
        "id": "h_q3yMAoKn1w",
        "colab_type": "code",
        "colab": {},
        "outputId": "f77f2b00-2c0b-4dee-c699-5f2c1bcbc59f"
      },
      "source": [
        "# Import the wordcloud library\n",
        "from wordcloud import WordCloud\n",
        "# Join the different processed titles together.\n",
        "long_string = ','.join(list(corpus['corpus_processed'].values))\n",
        "# Create a WordCloud object\n",
        "wordcloud = WordCloud(background_color=\"white\", max_words=5000, contour_width=3, contour_color='steelblue')\n",
        "# Generate a word cloud\n",
        "wordcloud.generate(long_string)\n",
        "# Visualize the word cloud\n",
        "wordcloud.to_image()"
      ],
      "execution_count": 0,
      "outputs": [
        {
          "output_type": "execute_result",
          "data": {
            "image/png": "[encoded data removed]",
            "text/plain": [
              "<PIL.Image.Image image mode=RGB size=400x200 at 0x620DFD0>"
            ]
          },
          "metadata": {
            "tags": []
          },
          "execution_count": 7
        }
      ]
    },
    {
      "cell_type": "code",
      "metadata": {
        "id": "kNy5nGkwKn12",
        "colab_type": "code",
        "colab": {},
        "outputId": "e7f1fd7c-ebe3-43f5-99ad-4f706b65d1c0"
      },
      "source": [
        "# Load the library with the CountVectorizer method\n",
        "from sklearn.feature_extraction.text import CountVectorizer\n",
        "import numpy as np\n",
        "import matplotlib.pyplot as plt\n",
        "import seaborn as sns\n",
        "sns.set_style('whitegrid')\n",
        "%matplotlib inline\n",
        "# Helper function\n",
        "def plot_10_most_common_words(count_data, count_vectorizer):\n",
        "    import matplotlib.pyplot as plt\n",
        "    words = count_vectorizer.get_feature_names()\n",
        "    total_counts = np.zeros(len(words))\n",
        "    for t in count_data:\n",
        "        total_counts+=t.toarray()[0]\n",
        "    \n",
        "    count_dict = (zip(words, total_counts))\n",
        "    count_dict = sorted(count_dict, key=lambda x:x[1], reverse=True)[0:10]\n",
        "    words = [w[0] for w in count_dict]\n",
        "    counts = [w[1] for w in count_dict]\n",
        "    x_pos = np.arange(len(words)) \n",
        "    \n",
        "    plt.figure(2, figsize=(15, 15/1.6180))\n",
        "    plt.subplot(title='10 most common words')\n",
        "    sns.set_context(\"notebook\", font_scale=1.25, rc={\"lines.linewidth\": 2.5})\n",
        "    sns.barplot(x_pos, counts, palette='husl')\n",
        "    plt.xticks(x_pos, words, rotation=90) \n",
        "    plt.xlabel('words')\n",
        "    plt.ylabel('counts')\n",
        "    plt.show()\n",
        "# Initialise the count vectorizer with the portuguese stop words\n",
        "count_vectorizer = CountVectorizer(stop_words=swu)\n",
        "# Fit and transform the processed titles\n",
        "count_data = count_vectorizer.fit_transform(corpus['corpus_processed'])\n",
        "# Visualise the 10 most common words\n",
        "plot_10_most_common_words(count_data, count_vectorizer)"
      ],
      "execution_count": 0,
      "outputs": [
        {
          "output_type": "display_data",
          "data": {
            "image/png": "[encoded data removed]",
            "text/plain": [
              "<Figure size 1080x667.491 with 1 Axes>"
            ]
          },
          "metadata": {
            "tags": [],
            "needs_background": "light"
          }
        }
      ]
    },
    {
      "cell_type": "markdown",
      "metadata": {
        "id": "MvapR5PcKn15",
        "colab_type": "text"
      },
      "source": [
        "## Indexação e consulta por frase"
      ]
    },
    {
      "cell_type": "code",
      "metadata": {
        "id": "nuLaDw52Kn15",
        "colab_type": "code",
        "colab": {},
        "outputId": "1e92bbb0-0229-4e84-c62f-99697af1a78f"
      },
      "source": [
        "def whooshSearcher(sentence, corpus):\n",
        "    #______________________________________________________________________________________________________   \n",
        "   \n",
        "    schema = Schema(cont=TEXT(phrase=True, stored=True))\n",
        "    \n",
        "    #Criando o indexidr:\n",
        "    if os.path.exists('indexdir'):\n",
        "        shutil.rmtree(r'\\Users\\maria.gontijo\\Downloads\\indexdir')\n",
        "        os.mkdir('indexdir')\n",
        "        ix = create_in(\"indexdir\", schema)\n",
        "        writer = ix.writer()\n",
        "        for txt in corpus:\n",
        "            writer.add_document(cont=txt)\n",
        "        writer.commit()\n",
        "    else:\n",
        "        os.mkdir('indexdir')\n",
        "        ix = create_in(\"indexdir\", schema)\n",
        "        writer = ix.writer()\n",
        "        for txt in corpus:\n",
        "            writer.add_document(cont=txt)\n",
        "        writer.commit()\n",
        "    #______________________________________________________________________________________________________\n",
        "    \n",
        "    aux=[]\n",
        "    positions=[]\n",
        "\n",
        "\n",
        "    query = QueryParser(\"cont\", schema=ix.schema,group=qparser.OrGroup).parse(sentence)\n",
        "    facets = sorting.Facets()\n",
        "    facets.add_field(\"cont\")\n",
        "    facets.add_field(\"cont\", allow_overlap=True)\n",
        "    answer = ix.searcher().search(query,limit=10, groupedby=facets)\n",
        "    for k in answer:\n",
        "        positions.append(corpus[corpus.isin([k.values()[0]])].index[0])\n",
        "    for hit in answer:\n",
        "        aux.append(re.split(\"\\.\\.\\.\", hit.highlights(\"cont\")))\n",
        "    print(\"Resultados em ordem de similaridade:\")\n",
        "    print(\" \")\n",
        "    for j in range(min(10,len(aux))):\n",
        "        print(\"Trechos do resultado \"+str(j+1)+\", linha \"+str(positions[j])+\" do Corpus\")\n",
        "        for i in range(len(aux[j])):\n",
        "            display(Markdown(\"Trecho \"+str(i)+\":  [...] \"+aux[j][i]+\" [...]\"))\n",
        "        print(\" \")\n",
        "\n",
        "\n",
        "    return positions[:min(10,len(aux))]"
      ],
      "execution_count": 0,
      "outputs": [
        {
          "output_type": "stream",
          "text": [
            "<>:36: DeprecationWarning: invalid escape sequence \\.\n",
            "<>:36: DeprecationWarning: invalid escape sequence \\.\n",
            "<>:36: DeprecationWarning: invalid escape sequence \\.\n",
            "<ipython-input-10-19b46a4ce849>:36: DeprecationWarning: invalid escape sequence \\.\n",
            "  aux.append(re.split(\"\\.\\.\\.\", hit.highlights(\"cont\")))\n"
          ],
          "name": "stderr"
        }
      ]
    },
    {
      "cell_type": "code",
      "metadata": {
        "id": "gi7Xfr-LKn18",
        "colab_type": "code",
        "colab": {},
        "outputId": "60400ba2-1bc7-4e23-83b0-39432698669c"
      },
      "source": [
        "whooshSearcher('riscos do negócio', corpus.content)"
      ],
      "execution_count": 0,
      "outputs": [
        {
          "output_type": "stream",
          "text": [
            "Resultados em ordem de similaridade:\n",
            " \n",
            "Trechos do resultado 1, linha 229 do Corpus\n"
          ],
          "name": "stdout"
        },
        {
          "output_type": "display_data",
          "data": {
            "text/markdown": "Trecho 0:  [...] <b class=\"match term0\">do</b> balanço de <b class=\"match term1\">riscos</b> prescreve ajuste [...]",
            "text/plain": [
              "<IPython.core.display.Markdown object>"
            ]
          },
          "metadata": {
            "tags": []
          }
        },
        {
          "output_type": "display_data",
          "data": {
            "text/markdown": "Trecho 1:  [...] atividade econômica, <b class=\"match term0\">do</b> balanço de <b class=\"match term1\">riscos</b> e das projeções e [...]",
            "text/plain": [
              "<IPython.core.display.Markdown object>"
            ]
          },
          "metadata": {
            "tags": []
          }
        },
        {
          "output_type": "display_data",
          "data": {
            "text/markdown": "Trecho 2:  [...] prospectiva abaixo <b class=\"match term0\">do</b> esperado. • <b class=\"match term2\">Riscos</b> de elevação da inflação [...]",
            "text/plain": [
              "<IPython.core.display.Markdown object>"
            ]
          },
          "metadata": {
            "tags": []
          }
        },
        {
          "output_type": "stream",
          "text": [
            " \n",
            "Trechos do resultado 2, linha 265 do Corpus\n"
          ],
          "name": "stdout"
        },
        {
          "output_type": "display_data",
          "data": {
            "text/markdown": "Trecho 0:  [...] <b class=\"match term0\">do</b> balanço de <b class=\"match term1\">riscos</b> prescreve ajuste [...]",
            "text/plain": [
              "<IPython.core.display.Markdown object>"
            ]
          },
          "metadata": {
            "tags": []
          }
        },
        {
          "output_type": "display_data",
          "data": {
            "text/markdown": "Trecho 1:  [...] atividade econômica, <b class=\"match term0\">do</b> balanço de <b class=\"match term1\">riscos</b> e das projeções e [...]",
            "text/plain": [
              "<IPython.core.display.Markdown object>"
            ]
          },
          "metadata": {
            "tags": []
          }
        },
        {
          "output_type": "display_data",
          "data": {
            "text/markdown": "Trecho 2:  [...] prospectiva abaixo <b class=\"match term0\">do</b> esperado. • <b class=\"match term2\">Riscos</b> de elevação da inflação [...]",
            "text/plain": [
              "<IPython.core.display.Markdown object>"
            ]
          },
          "metadata": {
            "tags": []
          }
        },
        {
          "output_type": "stream",
          "text": [
            " \n",
            "Trechos do resultado 3, linha 247 do Corpus\n"
          ],
          "name": "stdout"
        },
        {
          "output_type": "display_data",
          "data": {
            "text/markdown": "Trecho 0:  [...] Neto Presidente <b class=\"match term0\">do</b> Banco Central <b class=\"match term0\">do</b> Brasil 25 de junho de 2019 [...]",
            "text/plain": [
              "<IPython.core.display.Markdown object>"
            ]
          },
          "metadata": {
            "tags": []
          }
        },
        {
          "output_type": "display_data",
          "data": {
            "text/markdown": "Trecho 1:  [...] favorável <b class=\"match term0\">do</b> balanço de <b class=\"match term1\">riscos</b> para a inflação, neste [...]",
            "text/plain": [
              "<IPython.core.display.Markdown object>"
            ]
          },
          "metadata": {
            "tags": []
          }
        },
        {
          "output_type": "display_data",
          "data": {
            "text/markdown": "Trecho 2:  [...] dos controles e <b class=\"match term0\">do</b> gerenciamento de <b class=\"match term1\">riscos</b> • supervisão especializada [...]",
            "text/plain": [
              "<IPython.core.display.Markdown object>"
            ]
          },
          "metadata": {
            "tags": []
          }
        },
        {
          "output_type": "stream",
          "text": [
            " \n",
            "Trechos do resultado 4, linha 258 do Corpus\n"
          ],
          "name": "stdout"
        },
        {
          "output_type": "display_data",
          "data": {
            "text/markdown": "Trecho 0:  [...] NETO Presidente <b class=\"match term0\">do</b> Banco Central <b class=\"match term0\">do</b> Brasil 27 de agosto de [...]",
            "text/plain": [
              "<IPython.core.display.Markdown object>"
            ]
          },
          "metadata": {
            "tags": []
          }
        },
        {
          "output_type": "display_data",
          "data": {
            "text/markdown": "Trecho 1:  [...] prospectiva abaixo <b class=\"match term0\">do</b> esperado. • <b class=\"match term2\">Riscos</b> de elevação da inflação [...]",
            "text/plain": [
              "<IPython.core.display.Markdown object>"
            ]
          },
          "metadata": {
            "tags": []
          }
        },
        {
          "output_type": "display_data",
          "data": {
            "text/markdown": "Trecho 2:  [...] atividade econômica, <b class=\"match term0\">do</b> balanço de <b class=\"match term1\">riscos</b> e das projeções e [...]",
            "text/plain": [
              "<IPython.core.display.Markdown object>"
            ]
          },
          "metadata": {
            "tags": []
          }
        },
        {
          "output_type": "stream",
          "text": [
            " \n",
            "Trechos do resultado 5, linha 257 do Corpus\n"
          ],
          "name": "stdout"
        },
        {
          "output_type": "display_data",
          "data": {
            "text/markdown": "Trecho 0:  [...] NETO Presidente <b class=\"match term0\">do</b> Banco Central <b class=\"match term0\">do</b> Brasil 06 de agosto de [...]",
            "text/plain": [
              "<IPython.core.display.Markdown object>"
            ]
          },
          "metadata": {
            "tags": []
          }
        },
        {
          "output_type": "display_data",
          "data": {
            "text/markdown": "Trecho 1:  [...] prospectiva abaixo <b class=\"match term0\">do</b> esperado. • <b class=\"match term2\">Riscos</b> de elevação da inflação [...]",
            "text/plain": [
              "<IPython.core.display.Markdown object>"
            ]
          },
          "metadata": {
            "tags": []
          }
        },
        {
          "output_type": "display_data",
          "data": {
            "text/markdown": "Trecho 2:  [...] Compreensão <b class=\"match term0\">do</b> funcionamento <b class=\"match term0\">do</b> instrumento • Capacidade [...]",
            "text/plain": [
              "<IPython.core.display.Markdown object>"
            ]
          },
          "metadata": {
            "tags": []
          }
        },
        {
          "output_type": "stream",
          "text": [
            " \n",
            "Trechos do resultado 6, linha 267 do Corpus\n"
          ],
          "name": "stdout"
        },
        {
          "output_type": "display_data",
          "data": {
            "text/markdown": "Trecho 0:  [...] prospectiva abaixo <b class=\"match term0\">do</b> esperado. • <b class=\"match term2\">Riscos</b> de elevação da inflação [...]",
            "text/plain": [
              "<IPython.core.display.Markdown object>"
            ]
          },
          "metadata": {
            "tags": []
          }
        },
        {
          "output_type": "display_data",
          "data": {
            "text/markdown": "Trecho 1:  [...] atividade econômica, <b class=\"match term0\">do</b> balanço de <b class=\"match term1\">riscos</b> e das projeções e [...]",
            "text/plain": [
              "<IPython.core.display.Markdown object>"
            ]
          },
          "metadata": {
            "tags": []
          }
        },
        {
          "output_type": "display_data",
          "data": {
            "text/markdown": "Trecho 2:  [...] atividade econômica, <b class=\"match term0\">do</b> balanço de <b class=\"match term1\">riscos</b> e das projeções e [...]",
            "text/plain": [
              "<IPython.core.display.Markdown object>"
            ]
          },
          "metadata": {
            "tags": []
          }
        },
        {
          "output_type": "stream",
          "text": [
            " \n",
            "Trechos do resultado 7, linha 200 do Corpus\n"
          ],
          "name": "stdout"
        },
        {
          "output_type": "display_data",
          "data": {
            "text/markdown": "Trecho 0:  [...] ao RiscoGap <b class=\"match term0\">do</b> crédito/PIBCrescimento [...]",
            "text/plain": [
              "<IPython.core.display.Markdown object>"
            ]
          },
          "metadata": {
            "tags": []
          }
        },
        {
          "output_type": "display_data",
          "data": {
            "text/markdown": "Trecho 1:  [...] anual <b class=\"match term0\">do</b> crédito/PIBSpread de [...]",
            "text/plain": [
              "<IPython.core.display.Markdown object>"
            ]
          },
          "metadata": {
            "tags": []
          }
        },
        {
          "output_type": "display_data",
          "data": {
            "text/markdown": "Trecho 2:  [...] dos controles e <b class=\"match term0\">do</b> gerenciamento de <b class=\"match term1\">riscos</b> ✓ Supervisão especializada [...]",
            "text/plain": [
              "<IPython.core.display.Markdown object>"
            ]
          },
          "metadata": {
            "tags": []
          }
        },
        {
          "output_type": "stream",
          "text": [
            " \n",
            "Trechos do resultado 8, linha 209 do Corpus\n"
          ],
          "name": "stdout"
        },
        {
          "output_type": "display_data",
          "data": {
            "text/markdown": "Trecho 0:  [...] Gestão Integrada de <b class=\"match term2\">Riscos</b> A visão <b class=\"match term0\">do</b> Supervisor Anthero de [...]",
            "text/plain": [
              "<IPython.core.display.Markdown object>"
            ]
          },
          "metadata": {
            "tags": []
          }
        },
        {
          "output_type": "display_data",
          "data": {
            "text/markdown": "Trecho 1:  [...] Gestão Integrada de <b class=\"match term2\">Riscos</b> Documentos <b class=\"match term0\">do</b> Comitê da Basileia Destaques [...]",
            "text/plain": [
              "<IPython.core.display.Markdown object>"
            ]
          },
          "metadata": {
            "tags": []
          }
        },
        {
          "output_type": "display_data",
          "data": {
            "text/markdown": "Trecho 2:  [...] ampliado: todos os <b class=\"match term1\">riscos</b> relevantes <b class=\"match term0\">do</b> <b class=\"match term3\">negócio</b> (incluindo os não [...]",
            "text/plain": [
              "<IPython.core.display.Markdown object>"
            ]
          },
          "metadata": {
            "tags": []
          }
        },
        {
          "output_type": "stream",
          "text": [
            " \n",
            "Trechos do resultado 9, linha 273 do Corpus\n"
          ],
          "name": "stdout"
        },
        {
          "output_type": "display_data",
          "data": {
            "text/markdown": "Trecho 0:  [...] <b class=\"match term0\">do</b> Banco Central <b class=\"match term0\">do</b> Brasil, Anthero de Moraes [...]",
            "text/plain": [
              "<IPython.core.display.Markdown object>"
            ]
          },
          "metadata": {
            "tags": []
          }
        },
        {
          "output_type": "display_data",
          "data": {
            "text/markdown": "Trecho 1:  [...] de <b class=\"match term1\">riscos</b> e <b class=\"match term0\">do</b> gerenciamento de capital [...]",
            "text/plain": [
              "<IPython.core.display.Markdown object>"
            ]
          },
          "metadata": {
            "tags": []
          }
        },
        {
          "output_type": "display_data",
          "data": {
            "text/markdown": "Trecho 2:  [...] 4557, trata <b class=\"match term0\">do</b> risco operacional, <b class=\"match term0\">do</b> risco de mercado, <b class=\"match term0\">do</b> risco de crédito e <b class=\"match term0\">do</b> gerenciamento de capital [...]",
            "text/plain": [
              "<IPython.core.display.Markdown object>"
            ]
          },
          "metadata": {
            "tags": []
          }
        },
        {
          "output_type": "stream",
          "text": [
            " \n",
            "Trechos do resultado 10, linha 250 do Corpus\n"
          ],
          "name": "stdout"
        },
        {
          "output_type": "display_data",
          "data": {
            "text/markdown": "Trecho 0:  [...] prospectiva abaixo <b class=\"match term0\">do</b> esperado. • <b class=\"match term2\">Riscos</b> de elevação da inflação [...]",
            "text/plain": [
              "<IPython.core.display.Markdown object>"
            ]
          },
          "metadata": {
            "tags": []
          }
        },
        {
          "output_type": "display_data",
          "data": {
            "text/markdown": "Trecho 1:  [...] atividade econômica, <b class=\"match term0\">do</b> balanço de <b class=\"match term1\">riscos</b> e das projeções e [...]",
            "text/plain": [
              "<IPython.core.display.Markdown object>"
            ]
          },
          "metadata": {
            "tags": []
          }
        },
        {
          "output_type": "display_data",
          "data": {
            "text/markdown": "Trecho 2:  [...] atividade econômica, <b class=\"match term0\">do</b> balanço de <b class=\"match term1\">riscos</b> e das projeções e [...]",
            "text/plain": [
              "<IPython.core.display.Markdown object>"
            ]
          },
          "metadata": {
            "tags": []
          }
        },
        {
          "output_type": "stream",
          "text": [
            " \n"
          ],
          "name": "stdout"
        },
        {
          "output_type": "execute_result",
          "data": {
            "text/plain": [
              "[229, 265, 247, 258, 257, 267, 200, 209, 273, 250]"
            ]
          },
          "metadata": {
            "tags": []
          },
          "execution_count": 11
        }
      ]
    },
    {
      "cell_type": "code",
      "metadata": {
        "id": "AYGeoWgeKn1-",
        "colab_type": "code",
        "colab": {},
        "outputId": "b4f832ff-9480-43f7-db8f-4c6e9c1ccff5"
      },
      "source": [
        "whooshSearcher('transmissora de energia', corpus.content)"
      ],
      "execution_count": 0,
      "outputs": [
        {
          "output_type": "stream",
          "text": [
            "Resultados em ordem de similaridade:\n",
            " \n",
            "Trechos do resultado 1, linha 10 do Corpus\n"
          ],
          "name": "stdout"
        },
        {
          "output_type": "display_data",
          "data": {
            "text/markdown": "Trecho 0:  [...] nº 4.970, <b class=\"match term0\">de</b> 30 <b class=\"match term0\">de</b> janeiro <b class=\"match term0\">de</b> 2004, e a PARAíso <b class=\"match term1\">TRANSMISSORA</b> <b class=\"match term2\">DE</b> <b class=\"match term3\">ENERGIA</b> S.A., com sede no município [...]",
            "text/plain": [
              "<IPython.core.display.Markdown object>"
            ]
          },
          "metadata": {
            "tags": []
          }
        },
        {
          "output_type": "display_data",
          "data": {
            "text/markdown": "Trecho 1:  [...] <b class=\"match term0\">de</b> 3 <b class=\"match term0\">de</b> fevereiro <b class=\"match term0\">de</b> 1995, 9.074, <b class=\"match term0\">de</b> 7 <b class=\"match term0\">de</b> julho <b class=\"match term0\">de</b> 1995, 9.427, <b class=\"match term0\">de</b> 26 <b class=\"match term0\">de</b> dezembro <b class=\"match term0\">de</b> 1996, 9.648, <b class=\"match term0\">de</b> 27 <b class=\"match term0\">de</b> maio <b class=\"match term0\">de</b> 1998, e 10.848, <b class=\"match term0\">de</b> 15 <b class=\"match term0\">de</b> março <b class=\"match term0\">de</b> 2004, pela legislação [...]",
            "text/plain": [
              "<IPython.core.display.Markdown object>"
            ]
          },
          "metadata": {
            "tags": []
          }
        },
        {
          "output_type": "display_data",
          "data": {
            "text/markdown": "Trecho 2:  [...] <b class=\"match term2\">DE</b> CONCESSÃO Nº 02/2015-ANEEL PARAiSO <b class=\"match term1\">TRANSMISSORA</b> <b class=\"match term2\">DE</b> <b class=\"match term3\">ENERGIA</b> S.A. E~ANEEL AG£NCIA [...]",
            "text/plain": [
              "<IPython.core.display.Markdown object>"
            ]
          },
          "metadata": {
            "tags": []
          }
        },
        {
          "output_type": "stream",
          "text": [
            " \n",
            "Trechos do resultado 2, linha 155 do Corpus\n"
          ],
          "name": "stdout"
        },
        {
          "output_type": "display_data",
          "data": {
            "text/markdown": "Trecho 0:  [...] nº 4.970, <b class=\"match term0\">de</b> 30 <b class=\"match term0\">de</b> janeiro <b class=\"match term0\">de</b> 2004, e a RIALMA <b class=\"match term1\">TRANSMISSORA</b> <b class=\"match term2\">DE</b> <b class=\"match term3\">ENERGIA</b> I S/A, com sede em Brasília [...]",
            "text/plain": [
              "<IPython.core.display.Markdown object>"
            ]
          },
          "metadata": {
            "tags": []
          }
        },
        {
          "output_type": "display_data",
          "data": {
            "text/markdown": "Trecho 1:  [...] <b class=\"match term0\">de</b> 3 <b class=\"match term0\">de</b> fevereiro <b class=\"match term0\">de</b> 1995, 9.074, <b class=\"match term0\">de</b> 7 <b class=\"match term0\">de</b> julho <b class=\"match term0\">de</b> 1995,9.427, <b class=\"match term0\">de</b> 26 <b class=\"match term0\">de</b> dezembro <b class=\"match term0\">de</b> 1996,9.648, <b class=\"match term0\">de</b> 27 <b class=\"match term0\">de</b> maio <b class=\"match term0\">de</b> 1998, e 10.848, <b class=\"match term0\">de</b> 15 <b class=\"match term0\">de</b> março <b class=\"match term0\">de</b> 2004, pela legislação [...]",
            "text/plain": [
              "<IPython.core.display.Markdown object>"
            ]
          },
          "metadata": {
            "tags": []
          }
        },
        {
          "output_type": "display_data",
          "data": {
            "text/markdown": "Trecho 2:  [...] <b class=\"match term2\">DE</b> CONCESSÃO N\" 30/2017-ANEEL RIALMA <b class=\"match term1\">TRANSMISSORA</b> <b class=\"match term2\">DE</b> <b class=\"match term3\">ENERGIA</b> I S/A E:tANEEL AGENCIA [...]",
            "text/plain": [
              "<IPython.core.display.Markdown object>"
            ]
          },
          "metadata": {
            "tags": []
          }
        },
        {
          "output_type": "stream",
          "text": [
            " \n",
            "Trechos do resultado 3, linha 65 do Corpus\n"
          ],
          "name": "stdout"
        },
        {
          "output_type": "display_data",
          "data": {
            "text/markdown": "Trecho 0:  [...] <b class=\"match term0\">de</b> 3 <b class=\"match term0\">de</b> fevereiro <b class=\"match term0\">de</b> 1995, 9.074, <b class=\"match term0\">de</b> 7 <b class=\"match term0\">de</b> julho <b class=\"match term0\">de</b> 1995, e 9.427, <b class=\"match term0\">de</b> 26 <b class=\"match term0\">de</b> dezembro <b class=\"match term0\">de</b> 1996, 9.648, <b class=\"match term0\">de</b> 27 <b class=\"match term0\">de</b> maio <b class=\"match term0\">de</b> 1998, Decreto no 2.655 [...]",
            "text/plain": [
              "<IPython.core.display.Markdown object>"
            ]
          },
          "metadata": {
            "tags": []
          }
        },
        {
          "output_type": "display_data",
          "data": {
            "text/markdown": "Trecho 1:  [...] ANEEL SC <b class=\"match term3\">ENERGIA</b> - EMPRESA <b class=\"match term2\">DE</b> TRANSMISSÃO <b class=\"match term2\">DE</b> <b class=\"match term3\">ENERGIA</b> <b class=\"match term2\">DE</b> SANTA CATARINA S.A. - FLS [...]",
            "text/plain": [
              "<IPython.core.display.Markdown object>"
            ]
          },
          "metadata": {
            "tags": []
          }
        },
        {
          "output_type": "display_data",
          "data": {
            "text/markdown": "Trecho 2:  [...] ANEEL SC <b class=\"match term3\">ENERGIA</b> - EMPRESA <b class=\"match term2\">DE</b> TRANSMISSÃO <b class=\"match term2\">DE</b> <b class=\"match term3\">ENERGIA</b> <b class=\"match term2\">DE</b> SANTA CATARINA S.A. - FLS [...]",
            "text/plain": [
              "<IPython.core.display.Markdown object>"
            ]
          },
          "metadata": {
            "tags": []
          }
        },
        {
          "output_type": "stream",
          "text": [
            " \n",
            "Trechos do resultado 4, linha 195 do Corpus\n"
          ],
          "name": "stdout"
        },
        {
          "output_type": "display_data",
          "data": {
            "text/markdown": "Trecho 0:  [...] <b class=\"match term0\">de</b> 3 <b class=\"match term0\">de</b> fevereiro <b class=\"match term0\">de</b> 1995, 9.074, <b class=\"match term0\">de</b> 7 <b class=\"match term0\">de</b> julho <b class=\"match term0\">de</b> 1995, 9.427, <b class=\"match term0\">de</b> 26 <b class=\"match term0\">de</b> dezembro <b class=\"match term0\">de</b> 1996, 9.648, <b class=\"match term0\">de</b> 27 <b class=\"match term0\">de</b> maio <b class=\"match term0\">de</b> 1998,10.438, <b class=\"match term0\">de</b> 26 <b class=\"match term0\">de</b> abril <b class=\"match term0\">de</b> 2002, e Decreto no 2.655 [...]",
            "text/plain": [
              "<IPython.core.display.Markdown object>"
            ]
          },
          "metadata": {
            "tags": []
          }
        },
        {
          "output_type": "display_data",
          "data": {
            "text/markdown": "Trecho 1:  [...] ANEEL – Paraíso-Açu <b class=\"match term4\">Transmissora</b> <b class=\"match term0\">de</b> <b class=\"match term0\">Energia</b> S.A. Fls. 8 <b class=\"match term0\">de</b> 31 fornecendo informações [...]",
            "text/plain": [
              "<IPython.core.display.Markdown object>"
            ]
          },
          "metadata": {
            "tags": []
          }
        },
        {
          "output_type": "display_data",
          "data": {
            "text/markdown": "Trecho 2:  [...] ANEEL – Paraíso-Açu <b class=\"match term4\">Transmissora</b> <b class=\"match term0\">de</b> <b class=\"match term0\">Energia</b> S.A. Fls. 9 <b class=\"match term0\">de</b> 31 <b class=\"match term1\">TRANSMISSORA</b> a definição [...]",
            "text/plain": [
              "<IPython.core.display.Markdown object>"
            ]
          },
          "metadata": {
            "tags": []
          }
        },
        {
          "output_type": "stream",
          "text": [
            " \n",
            "Trechos do resultado 5, linha 53 do Corpus\n"
          ],
          "name": "stdout"
        },
        {
          "output_type": "display_data",
          "data": {
            "text/markdown": "Trecho 0:  [...] n2 4.970, <b class=\"match term0\">de</b> 30 <b class=\"match term0\">de</b> janeiro <b class=\"match term0\">de</b> 2004, e a SÃO JOÃO <b class=\"match term1\">TRANSMISSORA</b> <b class=\"match term2\">DE</b> <b class=\"match term3\">ENERGIA</b> S.A., com sede no município [...]",
            "text/plain": [
              "<IPython.core.display.Markdown object>"
            ]
          },
          "metadata": {
            "tags": []
          }
        },
        {
          "output_type": "display_data",
          "data": {
            "text/markdown": "Trecho 1:  [...] o presente CONTRATO <b class=\"match term2\">DE</b> CONCESSÃO <b class=\"match term2\">DE</b> SERVIÇO PUBLICO <b class=\"match term2\">DE</b> TRANSMISSÃO <b class=\"match term2\">DE</b> <b class=\"match term3\">ENERGIA</b> ELETRICA, doravante [...]",
            "text/plain": [
              "<IPython.core.display.Markdown object>"
            ]
          },
          "metadata": {
            "tags": []
          }
        },
        {
          "output_type": "display_data",
          "data": {
            "text/markdown": "Trecho 2:  [...] <b class=\"match term0\">de</b> 3 <b class=\"match term0\">de</b> fevereiro <b class=\"match term0\">de</b> 1995, 9.074, <b class=\"match term0\">de</b> 7 <b class=\"match term0\">de</b> julho <b class=\"match term0\">de</b> 1995, 9.427, <b class=\"match term0\">de</b> 26 <b class=\"match term0\">de</b> dezembro <b class=\"match term0\">de</b> 1996, 9.648, <b class=\"match term0\">de</b> 27 <b class=\"match term0\">de</b> maio <b class=\"match term0\">de</b> 1998, e 10.848, <b class=\"match term0\">de</b> 15 <b class=\"match term0\">de</b> março <b class=\"match term0\">de</b> 2004, pela legislação [...]",
            "text/plain": [
              "<IPython.core.display.Markdown object>"
            ]
          },
          "metadata": {
            "tags": []
          }
        },
        {
          "output_type": "stream",
          "text": [
            " \n",
            "Trechos do resultado 6, linha 18 do Corpus\n"
          ],
          "name": "stdout"
        },
        {
          "output_type": "display_data",
          "data": {
            "text/markdown": "Trecho 0:  [...] E A SPE SANTA MARIA <b class=\"match term1\">TRANSMISSORA</b> <b class=\"match term2\">DE</b> <b class=\"match term3\">ENERGIA</b> S.A. inscrita no [...]",
            "text/plain": [
              "<IPython.core.display.Markdown object>"
            ]
          },
          "metadata": {
            "tags": []
          }
        },
        {
          "output_type": "display_data",
          "data": {
            "text/markdown": "Trecho 1:  [...] <b class=\"match term1\">TRANSMISSORA</b> <b class=\"match term2\">DE</b> <b class=\"match term3\">ENERGIA</b> S.A., com sede no município [...]",
            "text/plain": [
              "<IPython.core.display.Markdown object>"
            ]
          },
          "metadata": {
            "tags": []
          }
        },
        {
          "output_type": "display_data",
          "data": {
            "text/markdown": "Trecho 2:  [...] <b class=\"match term0\">de</b> 3 <b class=\"match term0\">de</b> fevereiro <b class=\"match term0\">de</b> 1995, 9.074, <b class=\"match term0\">de</b> 7 <b class=\"match term0\">de</b> julho <b class=\"match term0\">de</b> 1995, 9.427, <b class=\"match term0\">de</b> 26 <b class=\"match term0\">de</b> dezembro <b class=\"match term0\">de</b> 1996, 9.648, <b class=\"match term0\">de</b> 27 <b class=\"match term0\">de</b> maio <b class=\"match term0\">de</b> 1998, e 10.848, <b class=\"match term0\">de</b> 15 <b class=\"match term0\">de</b> março <b class=\"match term0\">de</b> 2004, pela legislação [...]",
            "text/plain": [
              "<IPython.core.display.Markdown object>"
            ]
          },
          "metadata": {
            "tags": []
          }
        },
        {
          "output_type": "stream",
          "text": [
            " \n",
            "Trechos do resultado 7, linha 47 do Corpus\n"
          ],
          "name": "stdout"
        },
        {
          "output_type": "display_data",
          "data": {
            "text/markdown": "Trecho 0:  [...] <b class=\"match term0\">de</b> 3 <b class=\"match term0\">de</b> fevereiro <b class=\"match term0\">de</b> 1995, 9.074, <b class=\"match term0\">de</b> 7 <b class=\"match term0\">de</b> julho <b class=\"match term0\">de</b> 1995,9.427, <b class=\"match term0\">de</b> 26 <b class=\"match term0\">de</b> dezembro <b class=\"match term0\">de</b> 1996, 9.648, <b class=\"match term0\">de</b> 27 <b class=\"match term0\">de</b> maio <b class=\"match term0\">de</b> 1998, e 10.848, <b class=\"match term0\">de</b> 15 <b class=\"match term0\">de</b> março <b class=\"match term0\">de</b> 2004, pela legislação [...]",
            "text/plain": [
              "<IPython.core.display.Markdown object>"
            ]
          },
          "metadata": {
            "tags": []
          }
        },
        {
          "output_type": "display_data",
          "data": {
            "text/markdown": "Trecho 1:  [...] SPE SANTA LUCIA <b class=\"match term1\">TRANSMISSORA</b> <b class=\"match term2\">DE</b> <b class=\"match term3\">ENERGIA</b> S.A. <b class=\"match term1\">TRANSMISSORA</b> na mitigação [...]",
            "text/plain": [
              "<IPython.core.display.Markdown object>"
            ]
          },
          "metadata": {
            "tags": []
          }
        },
        {
          "output_type": "display_data",
          "data": {
            "text/markdown": "Trecho 2:  [...] SPE SANTA LUCIA <b class=\"match term1\">TRANSMISSORA</b> <b class=\"match term2\">DE</b> <b class=\"match term3\">ENERGIA</b> S.A. Itumbiara <b class=\"match term4\">Transmissora</b> <b class=\"match term0\">de</b> <b class=\"match term0\">Energia</b> SA R$ 36.821,63 (trinta [...]",
            "text/plain": [
              "<IPython.core.display.Markdown object>"
            ]
          },
          "metadata": {
            "tags": []
          }
        },
        {
          "output_type": "stream",
          "text": [
            " \n",
            "Trechos do resultado 8, linha 129 do Corpus\n"
          ],
          "name": "stdout"
        },
        {
          "output_type": "display_data",
          "data": {
            "text/markdown": "Trecho 0:  [...] no 4.970, <b class=\"match term0\">de</b> 30 <b class=\"match term0\">de</b> janeiro <b class=\"match term0\">de</b> 2004, e Brilhante II <b class=\"match term4\">Transmissora</b> <b class=\"match term0\">de</b> <b class=\"match term0\">Energia</b> Ltda., com sede no [...]",
            "text/plain": [
              "<IPython.core.display.Markdown object>"
            ]
          },
          "metadata": {
            "tags": []
          }
        },
        {
          "output_type": "display_data",
          "data": {
            "text/markdown": "Trecho 1:  [...] o presente CONTRATO <b class=\"match term2\">DE</b> CONCESSÃO <b class=\"match term2\">DE</b> SERVIÇO PUBLICO <b class=\"match term2\">DE</b> TRANSMISSÃO <b class=\"match term2\">DE</b> <b class=\"match term3\">ENERGIA</b> ELÉTRICA, doravante [...]",
            "text/plain": [
              "<IPython.core.display.Markdown object>"
            ]
          },
          "metadata": {
            "tags": []
          }
        },
        {
          "output_type": "display_data",
          "data": {
            "text/markdown": "Trecho 2:  [...] <b class=\"match term0\">de</b> 3 <b class=\"match term0\">de</b> fevereiro <b class=\"match term0\">de</b> 1995, 9.074, <b class=\"match term0\">de</b> 7 <b class=\"match term0\">de</b> julho <b class=\"match term0\">de</b> 1995, 9.427, <b class=\"match term0\">de</b> 26 <b class=\"match term0\">de</b> dezembro <b class=\"match term0\">de</b> 1996, 9.648, <b class=\"match term0\">de</b> 27 <b class=\"match term0\">de</b> maio <b class=\"match term0\">de</b> 1998, e 10.848, <b class=\"match term0\">de</b> 15 <b class=\"match term0\">de</b> março <b class=\"match term0\">de</b> 2004, pela legislação [...]",
            "text/plain": [
              "<IPython.core.display.Markdown object>"
            ]
          },
          "metadata": {
            "tags": []
          }
        },
        {
          "output_type": "stream",
          "text": [
            " \n",
            "Trechos do resultado 9, linha 124 do Corpus\n"
          ],
          "name": "stdout"
        },
        {
          "output_type": "display_data",
          "data": {
            "text/markdown": "Trecho 0:  [...] o presente CONTRATO <b class=\"match term2\">DE</b> CONCESSÃO <b class=\"match term2\">DE</b> SERVIÇO PUBLICO <b class=\"match term2\">DE</b> TRANSMISSÃO <b class=\"match term2\">DE</b> <b class=\"match term3\">ENERGIA</b> ELÉTRICA, doravante [...]",
            "text/plain": [
              "<IPython.core.display.Markdown object>"
            ]
          },
          "metadata": {
            "tags": []
          }
        },
        {
          "output_type": "display_data",
          "data": {
            "text/markdown": "Trecho 1:  [...] <b class=\"match term0\">de</b> 3 <b class=\"match term0\">de</b> fevereiro <b class=\"match term0\">de</b> 1995, 9.074, <b class=\"match term0\">de</b> 7 <b class=\"match term0\">de</b> julho <b class=\"match term0\">de</b> 1995, 9.427, <b class=\"match term0\">de</b> 26 <b class=\"match term0\">de</b> dezembro <b class=\"match term0\">de</b> 1996, 9.648, <b class=\"match term0\">de</b> 27 <b class=\"match term0\">de</b> maio <b class=\"match term0\">de</b> 1998, e 10.848, <b class=\"match term0\">de</b> 15 <b class=\"match term0\">de</b> março <b class=\"match term0\">de</b> 2004, pela legislação [...]",
            "text/plain": [
              "<IPython.core.display.Markdown object>"
            ]
          },
          "metadata": {
            "tags": []
          }
        },
        {
          "output_type": "display_data",
          "data": {
            "text/markdown": "Trecho 2:  [...] <b class=\"match term0\">de</b> instalações utilizadas para o transpo <b class=\"match term0\">de</b> <b class=\"match term1\">energia</b> 1 N\" 1. 3 <b class=\"match term0\">de</b> 22 CONTRATO <b class=\"match term2\">DE</b> CONCESSÃO N120 020120 [...]",
            "text/plain": [
              "<IPython.core.display.Markdown object>"
            ]
          },
          "metadata": {
            "tags": []
          }
        },
        {
          "output_type": "stream",
          "text": [
            " \n",
            "Trechos do resultado 10, linha 67 do Corpus\n"
          ],
          "name": "stdout"
        },
        {
          "output_type": "display_data",
          "data": {
            "text/markdown": "Trecho 0:  [...] <b class=\"match term0\">de</b> 3 <b class=\"match term0\">de</b> fevereiro <b class=\"match term0\">de</b> 1995, 9.074, <b class=\"match term0\">de</b> 7 <b class=\"match term0\">de</b> julho <b class=\"match term0\">de</b> 1995, 9.427, <b class=\"match term0\">de</b> 26 <b class=\"match term0\">de</b> dezembro <b class=\"match term0\">de</b> 1996, 9.648, <b class=\"match term0\">de</b> 27 <b class=\"match term0\">de</b> maio <b class=\"match term0\">de</b> 1998, e 10.848, <b class=\"match term0\">de</b> 15 <b class=\"match term0\">de</b> março <b class=\"match term0\">de</b> 2004, pela legislação [...]",
            "text/plain": [
              "<IPython.core.display.Markdown object>"
            ]
          },
          "metadata": {
            "tags": []
          }
        },
        {
          "output_type": "display_data",
          "data": {
            "text/markdown": "Trecho 1:  [...] FEL MARECHAL RONDON <b class=\"match term1\">TRANSMISSORA</b> <b class=\"match term2\">DE</b> <b class=\"match term3\">ENERGIA</b> S.A. f*ANEEL ACINCIA [...]",
            "text/plain": [
              "<IPython.core.display.Markdown object>"
            ]
          },
          "metadata": {
            "tags": []
          }
        },
        {
          "output_type": "display_data",
          "data": {
            "text/markdown": "Trecho 2:  [...] MARECHAL RONDON <b class=\"match term1\">TRANSMISSORA</b> <b class=\"match term2\">DE</b> <b class=\"match term3\">ENERGIA</b> S.A. f* ANEEL ACtWCIA [...]",
            "text/plain": [
              "<IPython.core.display.Markdown object>"
            ]
          },
          "metadata": {
            "tags": []
          }
        },
        {
          "output_type": "stream",
          "text": [
            " \n"
          ],
          "name": "stdout"
        },
        {
          "output_type": "execute_result",
          "data": {
            "text/plain": [
              "[10, 155, 65, 195, 53, 18, 47, 129, 124, 67]"
            ]
          },
          "metadata": {
            "tags": []
          },
          "execution_count": 12
        }
      ]
    },
    {
      "cell_type": "code",
      "metadata": {
        "id": "REWszuc9Kn2B",
        "colab_type": "code",
        "colab": {}
      },
      "source": [
        "textos=corpus.content\n",
        "textos_limpos = []\n",
        "for texto in textos:\n",
        "    tlimpo = [stemmer.stem(token.lower()) for token in WordPunctTokenizer().tokenize(texto) if token not in swu]\n",
        "    textos_limpos.append(tlimpo)\n",
        "    \n",
        "indice_frase = defaultdict(lambda: defaultdict(list))\n",
        "\n",
        "for texto_id, texto in enumerate(textos_limpos):\n",
        "    for token_id, token in enumerate(texto):\n",
        "        indice_frase[token][texto_id].append(token_id)"
      ],
      "execution_count": 0,
      "outputs": []
    },
    {
      "cell_type": "code",
      "metadata": {
        "id": "pZwRGsf4Kn2D",
        "colab_type": "code",
        "colab": {}
      },
      "source": [
        "def busca_frase(frase, indice):\n",
        "    tokens = [stemmer.stem(token.lower()) for token in WordPunctTokenizer().tokenize(frase) if token not in swu]\n",
        " \n",
        "    matches = defaultdict(lambda:defaultdict(lambda:set([])))\n",
        "    for token in tokens:\n",
        "        matches[token] = indice[token]\n",
        "    \n",
        "    doc_pos = set(matches[tokens[0]])\n",
        "    for tok in tokens:\n",
        "        doc_pos = doc_pos.intersection(set(matches[token]))\n",
        "        \n",
        "    resultado = set([]) \n",
        "    for doc in doc_pos:\n",
        "        for pos in matches[tokens[0]][doc]:\n",
        "            if all((pos + token_id + 1 in matches[token][doc]) for token_id, token in enumerate(tokens[1:len(tokens)])):\n",
        "                resultado.add(doc) \n",
        "                \n",
        "    return resultado"
      ],
      "execution_count": 0,
      "outputs": []
    },
    {
      "cell_type": "code",
      "metadata": {
        "scrolled": false,
        "id": "hMn_anjVKn2F",
        "colab_type": "code",
        "colab": {}
      },
      "source": [
        "def busca_frase_alt(frase, indice):\n",
        "        \n",
        "    tokens = [stemmer.stem(token.lower()) for token in WordPunctTokenizer().tokenize(frase) if token not in swu]\n",
        " \n",
        "    resultado = busca_frase(frase, indice)\n",
        "                \n",
        "    if resultado == set([]):\n",
        "        searcher = ix.searcher()\n",
        "        query = QueryParser(\"content\", ix.schema).parse(frase)\n",
        "        resultado_alt = searcher.search(query)\n",
        "        return resultado_alt.docs()\n",
        "    else:\n",
        "        return resultado"
      ],
      "execution_count": 0,
      "outputs": []
    },
    {
      "cell_type": "code",
      "metadata": {
        "scrolled": true,
        "id": "FES5vP-7Kn2I",
        "colab_type": "code",
        "colab": {},
        "outputId": "cf7f2341-bdd3-48ef-efcb-a760e9b59f2e"
      },
      "source": [
        "busca_frase_alt('a transmissora poderá',indice_frase)"
      ],
      "execution_count": 0,
      "outputs": [
        {
          "output_type": "execute_result",
          "data": {
            "text/plain": [
              "{0,\n",
              " 1,\n",
              " 2,\n",
              " 3,\n",
              " 4,\n",
              " 5,\n",
              " 6,\n",
              " 7,\n",
              " 8,\n",
              " 9,\n",
              " 10,\n",
              " 11,\n",
              " 12,\n",
              " 13,\n",
              " 14,\n",
              " 15,\n",
              " 16,\n",
              " 17,\n",
              " 18,\n",
              " 19,\n",
              " 20,\n",
              " 21,\n",
              " 22,\n",
              " 23,\n",
              " 24,\n",
              " 25,\n",
              " 26,\n",
              " 27,\n",
              " 28,\n",
              " 29,\n",
              " 30,\n",
              " 31,\n",
              " 32,\n",
              " 33,\n",
              " 35,\n",
              " 36,\n",
              " 37,\n",
              " 38,\n",
              " 39,\n",
              " 40,\n",
              " 41,\n",
              " 42,\n",
              " 43,\n",
              " 44,\n",
              " 45,\n",
              " 46,\n",
              " 47,\n",
              " 48,\n",
              " 49,\n",
              " 50,\n",
              " 51,\n",
              " 52,\n",
              " 53,\n",
              " 54,\n",
              " 55,\n",
              " 56,\n",
              " 57,\n",
              " 58,\n",
              " 59,\n",
              " 60,\n",
              " 61,\n",
              " 62,\n",
              " 63,\n",
              " 64,\n",
              " 65,\n",
              " 66,\n",
              " 67,\n",
              " 68,\n",
              " 69,\n",
              " 70,\n",
              " 71,\n",
              " 72,\n",
              " 73,\n",
              " 74,\n",
              " 75,\n",
              " 76,\n",
              " 77,\n",
              " 78,\n",
              " 79,\n",
              " 81,\n",
              " 82,\n",
              " 83,\n",
              " 84,\n",
              " 85,\n",
              " 86,\n",
              " 87,\n",
              " 88,\n",
              " 89,\n",
              " 90,\n",
              " 91,\n",
              " 92,\n",
              " 93,\n",
              " 94,\n",
              " 95,\n",
              " 96,\n",
              " 97,\n",
              " 98,\n",
              " 99,\n",
              " 100,\n",
              " 101,\n",
              " 102,\n",
              " 103,\n",
              " 104,\n",
              " 105,\n",
              " 106,\n",
              " 107,\n",
              " 108,\n",
              " 109,\n",
              " 110,\n",
              " 111,\n",
              " 112,\n",
              " 113,\n",
              " 114,\n",
              " 115,\n",
              " 116,\n",
              " 117,\n",
              " 118,\n",
              " 119,\n",
              " 120,\n",
              " 121,\n",
              " 122,\n",
              " 123,\n",
              " 124,\n",
              " 125,\n",
              " 126,\n",
              " 127,\n",
              " 128,\n",
              " 129,\n",
              " 130,\n",
              " 131,\n",
              " 132,\n",
              " 133,\n",
              " 134,\n",
              " 135,\n",
              " 136,\n",
              " 137,\n",
              " 138,\n",
              " 139,\n",
              " 140,\n",
              " 141,\n",
              " 142,\n",
              " 143,\n",
              " 144,\n",
              " 145,\n",
              " 146,\n",
              " 147,\n",
              " 148,\n",
              " 149,\n",
              " 150,\n",
              " 151,\n",
              " 152,\n",
              " 153,\n",
              " 154,\n",
              " 155,\n",
              " 156,\n",
              " 157,\n",
              " 158,\n",
              " 159,\n",
              " 161,\n",
              " 162,\n",
              " 163,\n",
              " 164,\n",
              " 165,\n",
              " 166,\n",
              " 167,\n",
              " 168,\n",
              " 169,\n",
              " 170,\n",
              " 171,\n",
              " 172,\n",
              " 173,\n",
              " 174,\n",
              " 175,\n",
              " 176,\n",
              " 177,\n",
              " 178,\n",
              " 179,\n",
              " 180,\n",
              " 181,\n",
              " 182,\n",
              " 183,\n",
              " 184,\n",
              " 185,\n",
              " 186,\n",
              " 187,\n",
              " 188,\n",
              " 189,\n",
              " 190,\n",
              " 191,\n",
              " 192,\n",
              " 193,\n",
              " 194,\n",
              " 195,\n",
              " 196,\n",
              " 197,\n",
              " 198,\n",
              " 199}"
            ]
          },
          "metadata": {
            "tags": []
          },
          "execution_count": 20
        }
      ]
    },
    {
      "cell_type": "code",
      "metadata": {
        "id": "TQwUe6_9Kn6E",
        "colab_type": "code",
        "colab": {}
      },
      "source": [
        ""
      ],
      "execution_count": 0,
      "outputs": []
    }
  ]
}